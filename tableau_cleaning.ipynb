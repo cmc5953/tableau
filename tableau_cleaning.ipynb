{
 "cells": [
  {
   "cell_type": "code",
   "execution_count": 12,
   "metadata": {},
   "outputs": [],
   "source": [
    "import pandas as pd\n",
    "import os\n",
    "import csv\n",
    "output = 'data.csv'"
   ]
  },
  {
   "cell_type": "code",
   "execution_count": 28,
   "metadata": {},
   "outputs": [],
   "source": [
    "jan_df = pd.read_csv(\"01_2019.csv\")\n",
    "jan_df['month'] = '01-2019'\n",
    "feb_df = pd.read_csv(\"02_2019.csv\")\n",
    "feb_df['month'] = '02-2019'\n",
    "mar_df = pd.read_csv(\"03_2019.csv\")\n",
    "mar_df['month'] = '03-2019'\n",
    "apr_df = pd.read_csv(\"04_2019.csv\")\n",
    "apr_df['month'] = '04-2019'\n",
    "may_df = pd.read_csv(\"05_2019.csv\")\n",
    "may_df['month'] = '05-2019'\n",
    "jun_df = pd.read_csv(\"06_2019.csv\")\n",
    "jun_df['month'] = '06-2019'\n",
    "jul_df = pd.read_csv(\"07_2019.csv\")\n",
    "jul_df['month'] = '07-2019'\n",
    "aug_df = pd.read_csv(\"08_2019.csv\")\n",
    "aug_df['month'] = '08-2019'\n",
    "sept_df = pd.read_csv(\"09_2019.csv\")\n",
    "sept_df['month'] = '09-2019'\n",
    "oct_df = pd.read_csv(\"10_2019.csv\")\n",
    "oct_df['month'] = '10-2019'\n",
    "nov_df = pd.read_csv(\"11_2019.csv\")\n",
    "nov_df['month'] = '11-2019'\n",
    "dec_df = pd.read_csv(\"12_2019.csv\")\n",
    "dec_df['month'] = '12-2019'\n",
    "dfs = []\n",
    "dfs = [jan_df, feb_df, mar_df, may_df, apr_df, jun_df, jul_df, aug_df, sept_df, oct_df, nov_df, dec_df]\n",
    "data_df = pd.concat(dfs)\n",
    "data_df['age'] = 2020-data_df['birth year']\n",
    "data_df = data_df.dropna(axis=0, how='any')\n",
    "with open(output, 'w') as datafile:\n",
    "    data_df.to_csv(output)\n"
   ]
  },
  {
   "cell_type": "code",
   "execution_count": 29,
   "metadata": {},
   "outputs": [
    {
     "data": {
      "text/plain": [
       "8579      17\n",
       "41301     17\n",
       "7295      17\n",
       "19866     17\n",
       "6943      17\n",
       "        ... \n",
       "1980     132\n",
       "40297    132\n",
       "11101    132\n",
       "15316    133\n",
       "15213    133\n",
       "Name: age, Length: 405424, dtype: int64"
      ]
     },
     "execution_count": 29,
     "metadata": {},
     "output_type": "execute_result"
    }
   ],
   "source": [
    "data_df['age'].sort_values()"
   ]
  },
  {
   "cell_type": "code",
   "execution_count": 32,
   "metadata": {},
   "outputs": [
    {
     "data": {
      "text/plain": [
       "36.0"
      ]
     },
     "execution_count": 32,
     "metadata": {},
     "output_type": "execute_result"
    }
   ],
   "source": [
    "data_df['age'].median()"
   ]
  },
  {
   "cell_type": "code",
   "execution_count": null,
   "metadata": {},
   "outputs": [],
   "source": []
  }
 ],
 "metadata": {
  "kernelspec": {
   "display_name": "Python 3.6.10 64-bit ('PythonData': conda)",
   "language": "python",
   "name": "python361064bitpythondataconda17a5c2d62f2f4abc8d5e8143c0a3f1c7"
  },
  "language_info": {
   "codemirror_mode": {
    "name": "ipython",
    "version": 3
   },
   "file_extension": ".py",
   "mimetype": "text/x-python",
   "name": "python",
   "nbconvert_exporter": "python",
   "pygments_lexer": "ipython3",
   "version": "3.6.10"
  }
 },
 "nbformat": 4,
 "nbformat_minor": 2
}
